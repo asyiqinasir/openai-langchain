{
 "cells": [
  {
   "cell_type": "markdown",
   "id": "e9af4f66-5ddd-4a9e-be06-75f5df86aade",
   "metadata": {},
   "source": [
    "### Applying function calling using Langchain and OpenAI\n",
    "- make sure to use the upgraded langchain and pydantic version.\n",
    "- if u refer to DeepLearning.ai course on function & tools, that pydantic version is old.\n",
    "- this is a code on how function calling behaves and how to use it.\n",
    "\n",
    "py311"
   ]
  },
  {
   "cell_type": "code",
   "execution_count": 148,
   "id": "6c2f380a-b789-456c-9eee-d90fb613342d",
   "metadata": {},
   "outputs": [],
   "source": [
    "from langchain.schema.agent import AgentFinish\n",
    "from langchain.chat_models import ChatOpenAI\n",
    "from typing import List\n",
    "from pydantic.v1 import BaseModel, Field\n",
    "from langchain.agents import tool\n",
    "from langchain.utils.openai_functions import convert_pydantic_to_openai_function\n",
    "from langchain.tools.render import format_tool_to_openai_function\n",
    "from langchain.prompts import ChatPromptTemplate\n",
    "from langchain.schema.agent import AgentFinish"
   ]
  },
  {
   "cell_type": "code",
   "execution_count": 150,
   "id": "d37e9195-bfbc-4181-81d0-a798e6de9c99",
   "metadata": {},
   "outputs": [
    {
     "data": {
      "text/plain": [
       "'0.0.350'"
      ]
     },
     "execution_count": 150,
     "metadata": {},
     "output_type": "execute_result"
    }
   ],
   "source": [
    "import langchain\n",
    "langchain.__version__"
   ]
  },
  {
   "cell_type": "code",
   "execution_count": 151,
   "id": "fcb1abf9-a81a-4d3f-b292-874200b50d9c",
   "metadata": {},
   "outputs": [
    {
     "data": {
      "text/plain": [
       "'2.5.2'"
      ]
     },
     "execution_count": 151,
     "metadata": {},
     "output_type": "execute_result"
    }
   ],
   "source": [
    "import pydantic\n",
    "pydantic.__version__"
   ]
  },
  {
   "cell_type": "code",
   "execution_count": 152,
   "id": "ddc4adf9-34ce-4153-b1c7-849e2715adb5",
   "metadata": {},
   "outputs": [],
   "source": [
    "import os\n",
    "import openai\n",
    "from langchain.chat_models import ChatOpenAI\n",
    "from dotenv import load_dotenv, find_dotenv\n",
    "_ = load_dotenv(find_dotenv()) # read local .env file\n",
    "openai.api_key = os.environ['OPENAI_API_KEY']"
   ]
  },
  {
   "cell_type": "code",
   "execution_count": 153,
   "id": "5ae0c031-b9fc-479a-ae09-7dab190312ed",
   "metadata": {},
   "outputs": [],
   "source": [
    "from typing import List\n",
    "from pydantic.v1 import BaseModel, Field"
   ]
  },
  {
   "cell_type": "markdown",
   "id": "c34627f9-cf1b-4000-9361-d16ac9c2adc1",
   "metadata": {},
   "source": [
    "### Pydantic function"
   ]
  },
  {
   "cell_type": "markdown",
   "id": "3460dbdb-20b5-4aaf-9594-a8e47173725b",
   "metadata": {},
   "source": [
    "pydantic function and it's description is needed to guide the LLM model to choose which function to call."
   ]
  },
  {
   "cell_type": "code",
   "execution_count": 154,
   "id": "e197d7b8-7523-4a8f-a8a9-912b6f0ceca8",
   "metadata": {},
   "outputs": [],
   "source": [
    "class AnimalSearch(BaseModel):\n",
    "    \"\"\"Call this to get the animal\"\"\"\n",
    "    animal: str = Field(description=\"animal that is mentioned\")"
   ]
  },
  {
   "cell_type": "code",
   "execution_count": 155,
   "id": "66d252d7-a2fd-447a-a78e-7ed8eed2d888",
   "metadata": {},
   "outputs": [],
   "source": [
    "class WeatherSearch(BaseModel):\n",
    "    \"\"\"Call this to get the weather at that location\"\"\"\n",
    "    location: str = Field(description=\"location to get weather for\")"
   ]
  },
  {
   "cell_type": "markdown",
   "id": "5b3efc9d-b3da-4887-bd37-0ec0d185676d",
   "metadata": {},
   "source": [
    "### Tool Function"
   ]
  },
  {
   "cell_type": "markdown",
   "id": "40d8d36f-0301-4183-8857-bd1e09c27238",
   "metadata": {},
   "source": [
    "tool function is the function to run when LLM model has decided on which function to call. \n",
    "but this function needs to be triggered by us. (see the end of the notebook)"
   ]
  },
  {
   "cell_type": "code",
   "execution_count": 184,
   "id": "b5409cd5-9f37-4572-91dc-dee26e4baae3",
   "metadata": {},
   "outputs": [],
   "source": [
    "from langchain.agents import tool\n",
    "@tool(args_schema=WeatherSearch)\n",
    "def search_weather(location: str) -> str:\n",
    "    \"\"\"Run weather search.\"\"\"\n",
    "    return \"i am weather bob\" #just a simple one. just to test"
   ]
  },
  {
   "cell_type": "code",
   "execution_count": 185,
   "id": "9dd9e0c7-b0b7-415c-a1bb-3c65fd1e71f1",
   "metadata": {},
   "outputs": [],
   "source": [
    "@tool(args_schema=AnimalSearch)\n",
    "def search_animal(animal: str) -> str:\n",
    "    \"\"\"Run animal search.\"\"\"\n",
    "    return \"i am a pink panther\" #just a simple one. just to test"
   ]
  },
  {
   "cell_type": "code",
   "execution_count": 183,
   "id": "35d6f3b1-2b2e-453c-8e87-b03e8f716b5c",
   "metadata": {},
   "outputs": [],
   "source": [
    "from langchain.utils.openai_functions import convert_pydantic_to_openai_function\n",
    "#weather_function = convert_pydantic_to_openai_function(WeatherSearch)"
   ]
  },
  {
   "cell_type": "code",
   "execution_count": 159,
   "id": "896fdf19-14b8-4640-a746-e6100e3049a2",
   "metadata": {},
   "outputs": [],
   "source": [
    "tools = [search_weather, search_animal]"
   ]
  },
  {
   "cell_type": "markdown",
   "id": "4280ded2-e917-4309-8a8f-0b50650450ee",
   "metadata": {},
   "source": [
    "The LLM model needs to be bind with functions. This indicates that it can utilize the function. "
   ]
  },
  {
   "cell_type": "code",
   "execution_count": 182,
   "id": "f117d96b-0cdc-4e09-95c7-44a6c5064899",
   "metadata": {},
   "outputs": [],
   "source": [
    "from langchain.tools.render import format_tool_to_openai_function\n",
    "#from langchain.agents.output_parsers import OpenAIFunctionsAgentOutputParser\n",
    "\n",
    "functions = [format_tool_to_openai_function(f) for f in tools]\n",
    "model_bind = ChatOpenAI(temperature=0).bind(functions=functions)"
   ]
  },
  {
   "cell_type": "code",
   "execution_count": 177,
   "id": "6db3055a-20ef-40d6-8280-624e35f8e70a",
   "metadata": {},
   "outputs": [
    {
     "name": "stdout",
     "output_type": "stream",
     "text": [
      "[{'name': 'search_weather', 'description': 'search_weather(location: str) -> str - Run weather search.', 'parameters': {'title': 'WeatherSearch', 'description': 'Call this to get the weather at that location', 'type': 'object', 'properties': {'location': {'title': 'Location', 'description': 'location to get weather for', 'type': 'string'}}, 'required': ['location']}}, {'name': 'search_animal', 'description': 'search_animal(animal: str) -> str - Run animal search.', 'parameters': {'title': 'AnimalSearch', 'description': 'Call this to get the animal', 'type': 'object', 'properties': {'animal': {'title': 'Animal', 'description': 'animal that is mentioned', 'type': 'string'}}, 'required': ['animal']}}]\n"
     ]
    }
   ],
   "source": [
    "#you can dump this inside OpenAI Assistant API for function calling purpose\n",
    "print(functions)"
   ]
  },
  {
   "cell_type": "code",
   "execution_count": 178,
   "id": "003358a8-ab60-4d0f-8fea-9d134a32f363",
   "metadata": {},
   "outputs": [
    {
     "data": {
      "text/plain": [
       "AIMessage(content='', additional_kwargs={'function_call': {'arguments': '{\\n  \"location\": \"Nilai\"\\n}', 'name': 'search_weather'}})"
      ]
     },
     "execution_count": 178,
     "metadata": {},
     "output_type": "execute_result"
    }
   ],
   "source": [
    "#test whether it triggers 'search_weather' or 'search_animal'\n",
    "model_bind.invoke(\"what is the weather in Nilai today?\")"
   ]
  },
  {
   "cell_type": "code",
   "execution_count": 179,
   "id": "d0ba329c-29d4-4497-9c9a-361cb95b7f48",
   "metadata": {},
   "outputs": [
    {
     "data": {
      "text/plain": [
       "AIMessage(content='', additional_kwargs={'function_call': {'arguments': '{\\n  \"animal\": \"rhino\"\\n}', 'name': 'search_animal'}})"
      ]
     },
     "execution_count": 179,
     "metadata": {},
     "output_type": "execute_result"
    }
   ],
   "source": [
    "#test whether it triggers 'search_weather' or 'search_animal'\n",
    "model_bind.invoke(\"what is that rhino doing in Nilai today?\")"
   ]
  },
  {
   "cell_type": "code",
   "execution_count": 163,
   "id": "275c4146-0ca5-49c6-b3c3-9eb42a9c5c44",
   "metadata": {},
   "outputs": [
    {
     "data": {
      "text/plain": [
       "AIMessage(content='', additional_kwargs={'function_call': {'arguments': '{\\n  \"location\": \"Nilai\"\\n}', 'name': 'WeatherSearch'}})"
      ]
     },
     "execution_count": 163,
     "metadata": {},
     "output_type": "execute_result"
    }
   ],
   "source": [
    "#example of forcing a specific function call\n",
    "weather_function = convert_pydantic_to_openai_function(WeatherSearch)\n",
    "model_bind.invoke(\"what is the animal in Nilai today?\", functions=[weather_function])"
   ]
  },
  {
   "cell_type": "code",
   "execution_count": 164,
   "id": "80e180a7-cd02-4bfa-b8cf-904c6a676347",
   "metadata": {},
   "outputs": [
    {
     "data": {
      "text/plain": [
       "AIMessage(content='', additional_kwargs={'function_call': {'arguments': '{\\n  \"animal\": \"giraffe\"\\n}', 'name': 'search_animal'}})"
      ]
     },
     "execution_count": 164,
     "metadata": {},
     "output_type": "execute_result"
    }
   ],
   "source": [
    "model_bind.invoke(\"I like to eat giraffe\")"
   ]
  },
  {
   "cell_type": "markdown",
   "id": "24f0b719-6b83-4065-b60c-c151984e1780",
   "metadata": {},
   "source": [
    "# Chain - LCEL the prompt, model"
   ]
  },
  {
   "cell_type": "code",
   "execution_count": 165,
   "id": "ad59296f-60f7-428b-ba68-bc0bd33587ae",
   "metadata": {},
   "outputs": [],
   "source": [
    "from langchain.prompts import ChatPromptTemplate\n",
    "prompt = ChatPromptTemplate.from_messages([\n",
    "    (\"system\", \"You are helpful assistant\"),\n",
    "    (\"user\", \"{query}\"),\n",
    "])\n",
    "chain = prompt | model_bind | OpenAIFunctionsAgentOutputParser()"
   ]
  },
  {
   "cell_type": "code",
   "execution_count": 166,
   "id": "a07155a4-8a4e-41fd-aa72-fbab9fa5b46e",
   "metadata": {},
   "outputs": [
    {
     "data": {
      "text/plain": [
       "AgentActionMessageLog(tool='search_animal', tool_input={'animal': 'rabbit'}, log=\"\\nInvoking: `search_animal` with `{'animal': 'rabbit'}`\\n\\n\\n\", message_log=[AIMessage(content='', additional_kwargs={'function_call': {'arguments': '{\\n  \"animal\": \"rabbit\"\\n}', 'name': 'search_animal'}})])"
      ]
     },
     "execution_count": 166,
     "metadata": {},
     "output_type": "execute_result"
    }
   ],
   "source": [
    "result = chain.invoke({\"query\": \"I am thinking about rabbit\"})\n",
    "result"
   ]
  },
  {
   "cell_type": "code",
   "execution_count": 167,
   "id": "5ed03057-50e0-4fd7-ae42-813638961a5a",
   "metadata": {},
   "outputs": [
    {
     "data": {
      "text/plain": [
       "{'animal': 'rabbit'}"
      ]
     },
     "execution_count": 167,
     "metadata": {},
     "output_type": "execute_result"
    }
   ],
   "source": [
    "result.tool_input"
   ]
  },
  {
   "cell_type": "code",
   "execution_count": 168,
   "id": "bfd9d134-8cad-4a83-bc12-57e16404814d",
   "metadata": {},
   "outputs": [
    {
     "data": {
      "text/plain": [
       "'i am a pink panther'"
      ]
     },
     "execution_count": 168,
     "metadata": {},
     "output_type": "execute_result"
    }
   ],
   "source": [
    "search_animal(result.tool_input)"
   ]
  },
  {
   "cell_type": "code",
   "execution_count": 169,
   "id": "a9cd4434-bcb0-4673-bebd-a436f58e4fef",
   "metadata": {},
   "outputs": [
    {
     "data": {
      "text/plain": [
       "'i am a pink panther'"
      ]
     },
     "execution_count": 169,
     "metadata": {},
     "output_type": "execute_result"
    }
   ],
   "source": [
    "search_animal(\"hippo\")"
   ]
  },
  {
   "cell_type": "markdown",
   "id": "e801bf49-3789-48ec-95bf-7b65cd2b2125",
   "metadata": {},
   "source": [
    "- The above part shows that the LLM model wont run the function.\n",
    "- When invoked, the result will show us what function is chosen, BUT it wont run it. \n",
    "- So, we need to write a code to input the \"tool_input\" (parameter) into the function to get the answer.\n",
    "- To continue, see below."
   ]
  },
  {
   "cell_type": "markdown",
   "id": "8d5865fd-00c8-4cfb-b492-48e40a92ea84",
   "metadata": {},
   "source": [
    "# Final chain - LCEL the prompt, model, and route "
   ]
  },
  {
   "cell_type": "code",
   "execution_count": 170,
   "id": "cf9040df-bbf2-4c72-8bf8-2e812e6018d2",
   "metadata": {},
   "outputs": [],
   "source": [
    "from langchain.schema.agent import AgentFinish\n",
    "def route(result):\n",
    "    if isinstance(result, AgentFinish):\n",
    "        return result.return_values['output']\n",
    "    else:\n",
    "        tools = {\n",
    "            \"search_weather\": search_weather, \n",
    "            \"search_animal\": search_animal,\n",
    "        }\n",
    "        return tools[result.tool].run(result.tool_input)"
   ]
  },
  {
   "cell_type": "code",
   "execution_count": 171,
   "id": "b09eef76-a781-44d2-9b54-e3eb9a5e1a11",
   "metadata": {},
   "outputs": [],
   "source": [
    "final_chain = prompt | model_bind | OpenAIFunctionsAgentOutputParser() | route"
   ]
  },
  {
   "cell_type": "code",
   "execution_count": 172,
   "id": "ce7c8ab8-150b-48dd-8faf-dfe21622ff30",
   "metadata": {},
   "outputs": [
    {
     "data": {
      "text/plain": [
       "'i am a pink panther'"
      ]
     },
     "execution_count": 172,
     "metadata": {},
     "output_type": "execute_result"
    }
   ],
   "source": [
    "final_result = final_chain.invoke({\"query\": \"find rabbit\"})\n",
    "final_result"
   ]
  },
  {
   "cell_type": "code",
   "execution_count": 173,
   "id": "82594d3a-7666-4db1-8273-f109ecc24160",
   "metadata": {},
   "outputs": [
    {
     "data": {
      "text/plain": [
       "'i am weather bob'"
      ]
     },
     "execution_count": 173,
     "metadata": {},
     "output_type": "execute_result"
    }
   ],
   "source": [
    "final_result = final_chain.invoke({\"query\": \"what is weather at Kuala Lumpur?\"})\n",
    "final_result"
   ]
  },
  {
   "cell_type": "markdown",
   "id": "3131cff9-b25d-42ff-9768-0bf101e4ea33",
   "metadata": {},
   "source": [
    "So, it works. Bubye"
   ]
  }
 ],
 "metadata": {
  "kernelspec": {
   "display_name": "Python 3 (ipykernel)",
   "language": "python",
   "name": "python3"
  },
  "language_info": {
   "codemirror_mode": {
    "name": "ipython",
    "version": 3
   },
   "file_extension": ".py",
   "mimetype": "text/x-python",
   "name": "python",
   "nbconvert_exporter": "python",
   "pygments_lexer": "ipython3",
   "version": "3.11.5"
  }
 },
 "nbformat": 4,
 "nbformat_minor": 5
}
